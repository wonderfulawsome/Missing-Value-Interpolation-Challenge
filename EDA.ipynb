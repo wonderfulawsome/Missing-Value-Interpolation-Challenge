{
 "cells": [
  {
   "cell_type": "code",
   "execution_count": 1,
   "metadata": {},
   "outputs": [],
   "source": [
    "import pandas as pd\n",
    "data = pd.read_csv('C:/Users/82106/Desktop/데이터 분석 프로젝트 2/dacon 결측치 보간/open/data.csv')"
   ]
  },
  {
   "cell_type": "code",
   "execution_count": 2,
   "metadata": {},
   "outputs": [
    {
     "name": "stdout",
     "output_type": "stream",
     "text": [
      "             id      Value\n",
      "0  SAMPLE_00000  27.636770\n",
      "1  SAMPLE_00001  27.250818\n",
      "2  SAMPLE_00002  27.154348\n",
      "3  SAMPLE_00003        NaN\n",
      "4  SAMPLE_00004        NaN\n"
     ]
    }
   ],
   "source": [
    "print(data.head())\n"
   ]
  },
  {
   "cell_type": "code",
   "execution_count": 3,
   "metadata": {},
   "outputs": [
    {
     "name": "stdout",
     "output_type": "stream",
     "text": [
      "id        object\n",
      "Value    float64\n",
      "dtype: object\n"
     ]
    }
   ],
   "source": [
    "print(data.dtypes)"
   ]
  },
  {
   "cell_type": "code",
   "execution_count": 4,
   "metadata": {},
   "outputs": [
    {
     "name": "stdout",
     "output_type": "stream",
     "text": [
      "count    40136.000000\n",
      "mean        23.725770\n",
      "std          5.055014\n",
      "min          6.886155\n",
      "25%         21.080368\n",
      "50%         24.260941\n",
      "75%         27.057861\n",
      "max         37.697052\n",
      "Name: Value, dtype: float64\n"
     ]
    }
   ],
   "source": [
    "print(data['Value'].describe())\n"
   ]
  },
  {
   "cell_type": "code",
   "execution_count": 5,
   "metadata": {},
   "outputs": [
    {
     "name": "stdout",
     "output_type": "stream",
     "text": [
      "id           0\n",
      "Value    22493\n",
      "dtype: int64\n"
     ]
    }
   ],
   "source": [
    "print(data.isnull().sum())\n"
   ]
  },
  {
   "cell_type": "code",
   "execution_count": 8,
   "metadata": {},
   "outputs": [
    {
     "name": "stdout",
     "output_type": "stream",
     "text": [
      "결측치 수: \n",
      "id           0\n",
      "Value    22493\n",
      "dtype: int64\n",
      "결측치 비율: 17.96%\n"
     ]
    }
   ],
   "source": [
    "import numpy as np\n",
    "\n",
    "# 결측치의 수 계산\n",
    "missing_values_count = data.isnull().sum()\n",
    "\n",
    "# 전체 데이터 수\n",
    "total_cells = np.product(data.shape)\n",
    "\n",
    "# 전체 결측치 수\n",
    "total_missing = missing_values_count.sum()\n",
    "\n",
    "# 결측치 비율 계산\n",
    "missing_percentage = (total_missing / total_cells) * 100\n",
    "\n",
    "print(f\"결측치 수: \\n{missing_values_count}\")\n",
    "print(f\"결측치 비율: {missing_percentage:.2f}%\")"
   ]
  },
  {
   "cell_type": "code",
   "execution_count": 12,
   "metadata": {},
   "outputs": [],
   "source": [
    "import pandas as pd\n",
    "import matplotlib.pyplot as plt\n",
    "import seaborn as sns\n",
    "\n",
    "# 박스플롯 생성\n",
    "plt.figure(figsize=(10, 6))\n",
    "sns.boxplot(x=data['Value'])\n",
    "plt.title('Boxplot of Temperature Values')\n",
    "plt.xlabel('Temperature (°C)')\n",
    "plt.show()"
   ]
  },
  {
   "cell_type": "code",
   "execution_count": null,
   "metadata": {},
   "outputs": [],
   "source": []
  }
 ],
 "metadata": {
  "kernelspec": {
   "display_name": "Python 3",
   "language": "python",
   "name": "python3"
  },
  "language_info": {
   "codemirror_mode": {
    "name": "ipython",
    "version": 3
   },
   "file_extension": ".py",
   "mimetype": "text/x-python",
   "name": "python",
   "nbconvert_exporter": "python",
   "pygments_lexer": "ipython3",
   "version": "3.10.2"
  }
 },
 "nbformat": 4,
 "nbformat_minor": 2
}
