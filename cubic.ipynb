{
 "cells": [
  {
   "cell_type": "code",
   "execution_count": 10,
   "metadata": {},
   "outputs": [],
   "source": [
    "import pandas as pd\n",
    "data = pd.read_csv('C:/Users/82106/Desktop/데이터 분석 프로젝트 2/dacon 결측치 보간/open/data.csv')"
   ]
  },
  {
   "cell_type": "code",
   "execution_count": 11,
   "metadata": {},
   "outputs": [
    {
     "name": "stdout",
     "output_type": "stream",
     "text": [
      "After interpolation:\n",
      "             id      Value\n",
      "0  SAMPLE_00000  27.636770\n",
      "1  SAMPLE_00001  27.250818\n",
      "2  SAMPLE_00002  27.154348\n",
      "3  SAMPLE_00003  27.109326\n",
      "4  SAMPLE_00004  27.068088\n",
      "5  SAMPLE_00005  27.030561\n",
      "6  SAMPLE_00006  26.996675\n",
      "7  SAMPLE_00007  26.966356\n",
      "8  SAMPLE_00008  26.939534\n",
      "9  SAMPLE_00009  26.916137\n"
     ]
    }
   ],
   "source": [
    "# 선형 보간 수행\n",
    "data['Value'] = data['Value'].interpolate(method='cubic')\n",
    "\n",
    "# 결측치 보간 후 데이터 확인\n",
    "print(\"After interpolation:\")\n",
    "print(data.head(10))"
   ]
  },
  {
   "cell_type": "code",
   "execution_count": 12,
   "metadata": {},
   "outputs": [
    {
     "data": {
      "text/plain": [
       "'C:/Users/82106/Desktop/데이터 분석 프로젝트 2/dacon 결측치 보간/open/submission.csv'"
      ]
     },
     "execution_count": 12,
     "metadata": {},
     "output_type": "execute_result"
    }
   ],
   "source": [
    "submission_path = 'C:/Users/82106/Desktop/데이터 분석 프로젝트 2/dacon 결측치 보간/open/sample_submission.csv'\n",
    "submission_data = pd.read_csv(submission_path)\n",
    "\n",
    "submission_data.set_index('id', inplace=True)\n",
    "data.set_index('id', inplace=True)\n",
    "submission_data.update(data)\n",
    "\n",
    "submission_data.reset_index(inplace=True)\n",
    "\n",
    "updated_submission_path = 'C:/Users/82106/Desktop/데이터 분석 프로젝트 2/dacon 결측치 보간/open/submission.csv'\n",
    "submission_data.to_csv(updated_submission_path, index=False)\n",
    "\n",
    "updated_submission_path"
   ]
  },
  {
   "cell_type": "code",
   "execution_count": null,
   "metadata": {},
   "outputs": [],
   "source": []
  }
 ],
 "metadata": {
  "kernelspec": {
   "display_name": "Python 3",
   "language": "python",
   "name": "python3"
  },
  "language_info": {
   "codemirror_mode": {
    "name": "ipython",
    "version": 3
   },
   "file_extension": ".py",
   "mimetype": "text/x-python",
   "name": "python",
   "nbconvert_exporter": "python",
   "pygments_lexer": "ipython3",
   "version": "3.10.2"
  }
 },
 "nbformat": 4,
 "nbformat_minor": 2
}
