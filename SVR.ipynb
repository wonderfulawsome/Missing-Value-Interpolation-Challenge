{
 "cells": [
  {
   "cell_type": "code",
   "execution_count": 28,
   "metadata": {},
   "outputs": [],
   "source": [
    "import pandas as pd\n",
    "import numpy as np\n",
    "from sklearn.svm import SVR\n",
    "from sklearn.model_selection import train_test_split\n",
    "from sklearn.preprocessing import StandardScaler\n",
    "from sklearn.metrics import mean_squared_error\n",
    "import numpy as np\n",
    "\n",
    "# 데이터 로드 및 준비\n",
    "data = pd.read_csv('C:/Users/82106/Desktop/데이터 분석 프로젝트 2/dacon 결측치 보간/open/data.csv')"
   ]
  },
  {
   "cell_type": "code",
   "execution_count": 29,
   "metadata": {},
   "outputs": [],
   "source": [
    "data = data.dropna(subset=['Value'])  # 결측치 제거"
   ]
  },
  {
   "cell_type": "code",
   "execution_count": 30,
   "metadata": {},
   "outputs": [],
   "source": [
    "# 특성 공학: 여기서는 단순 예시로 'id'를 시간적 특성으로 변환합니다. 실제로는 더 복잡한 특성을 고려할 수 있습니다.\n",
    "data['Time'] = pd.to_numeric(data['id'].str.replace('SAMPLE_', ''), errors='coerce')\n",
    "\n",
    "# 훈련 데이터와 테스트 데이터 분리\n",
    "X = data[['Time']]  # 예시로 Time만 사용\n",
    "y = data['Value']\n",
    "X_train, X_test, y_train, y_test = train_test_split(X, y, test_size=0.2, random_state=42)\n",
    "\n",
    "# 데이터 스케일링\n",
    "scaler = StandardScaler()\n",
    "X_train_scaled = scaler.fit_transform(X_train)\n",
    "X_test_scaled = scaler.transform(X_test)"
   ]
  },
  {
   "cell_type": "code",
   "execution_count": 31,
   "metadata": {},
   "outputs": [
    {
     "name": "stdout",
     "output_type": "stream",
     "text": [
      "Mean Squared Error: 12.371282370985995\n"
     ]
    }
   ],
   "source": [
    "# 모델 생성 및 학습\n",
    "model = SVR(kernel='rbf', C=100, gamma=0.1, epsilon=.1)\n",
    "model.fit(X_train_scaled, y_train)\n",
    "\n",
    "# 예측 및 성능 평가\n",
    "y_pred = model.predict(X_test_scaled)\n",
    "mse = mean_squared_error(y_test, y_pred)\n",
    "print(f'Mean Squared Error: {mse}')"
   ]
  },
  {
   "cell_type": "code",
   "execution_count": 33,
   "metadata": {},
   "outputs": [],
   "source": [
    "data_full = pd.read_csv('C:/Users/82106/Desktop/데이터 분석 프로젝트 2/dacon 결측치 보간/open/data.csv')\n",
    "data_full['Time'] = pd.to_numeric(data_full['id'].str.replace('SAMPLE_', ''), errors='coerce')\n",
    "missing_values = data_full[data_full['Value'].isna()]\n",
    "X_missing = missing_values[['Time']]\n",
    "X_missing_scaled = scaler.transform(X_missing)\n",
    "predicted_values = model.predict(X_missing_scaled)\n",
    "data_full.loc[data_full['Value'].isna(), 'Value'] = predicted_values"
   ]
  },
  {
   "cell_type": "code",
   "execution_count": 35,
   "metadata": {},
   "outputs": [],
   "source": [
    "data_full = data_full.drop('Time', axis=1)"
   ]
  },
  {
   "cell_type": "code",
   "execution_count": 36,
   "metadata": {},
   "outputs": [],
   "source": [
    "# 결과 저장\n",
    "data_full.to_csv('C:/Users/82106/Desktop/데이터 분석 프로젝트 2/dacon 결측치 보간/open/submission.csv', index=False)"
   ]
  },
  {
   "cell_type": "code",
   "execution_count": null,
   "metadata": {},
   "outputs": [],
   "source": []
  }
 ],
 "metadata": {
  "kernelspec": {
   "display_name": "Python 3",
   "language": "python",
   "name": "python3"
  },
  "language_info": {
   "codemirror_mode": {
    "name": "ipython",
    "version": 3
   },
   "file_extension": ".py",
   "mimetype": "text/x-python",
   "name": "python",
   "nbconvert_exporter": "python",
   "pygments_lexer": "ipython3",
   "version": "3.10.2"
  }
 },
 "nbformat": 4,
 "nbformat_minor": 2
}
