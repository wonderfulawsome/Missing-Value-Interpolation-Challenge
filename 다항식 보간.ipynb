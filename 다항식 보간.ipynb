{
 "cells": [
  {
   "cell_type": "code",
   "execution_count": 1,
   "metadata": {},
   "outputs": [],
   "source": [
    "import pandas as pd\n",
    "data = pd.read_csv('C:/Users/82106/Desktop/데이터 분석 프로젝트 2/dacon 결측치 보간/open/data.csv')"
   ]
  },
  {
   "cell_type": "code",
   "execution_count": 2,
   "metadata": {},
   "outputs": [],
   "source": [
    "# 다항식 보간 수행 (2차 다항식을 사용)\n",
    "data['Value'] = data['Value'].interpolate(method='polynomial', order=2)"
   ]
  },
  {
   "cell_type": "code",
   "execution_count": 3,
   "metadata": {},
   "outputs": [
    {
     "data": {
      "text/html": [
       "<div>\n",
       "<style scoped>\n",
       "    .dataframe tbody tr th:only-of-type {\n",
       "        vertical-align: middle;\n",
       "    }\n",
       "\n",
       "    .dataframe tbody tr th {\n",
       "        vertical-align: top;\n",
       "    }\n",
       "\n",
       "    .dataframe thead th {\n",
       "        text-align: right;\n",
       "    }\n",
       "</style>\n",
       "<table border=\"1\" class=\"dataframe\">\n",
       "  <thead>\n",
       "    <tr style=\"text-align: right;\">\n",
       "      <th></th>\n",
       "      <th>id</th>\n",
       "      <th>Value</th>\n",
       "    </tr>\n",
       "  </thead>\n",
       "  <tbody>\n",
       "    <tr>\n",
       "      <th>0</th>\n",
       "      <td>SAMPLE_00000</td>\n",
       "      <td>27.636770</td>\n",
       "    </tr>\n",
       "    <tr>\n",
       "      <th>1</th>\n",
       "      <td>SAMPLE_00001</td>\n",
       "      <td>27.250818</td>\n",
       "    </tr>\n",
       "    <tr>\n",
       "      <th>2</th>\n",
       "      <td>SAMPLE_00002</td>\n",
       "      <td>27.154348</td>\n",
       "    </tr>\n",
       "    <tr>\n",
       "      <th>3</th>\n",
       "      <td>SAMPLE_00003</td>\n",
       "      <td>27.101404</td>\n",
       "    </tr>\n",
       "    <tr>\n",
       "      <th>4</th>\n",
       "      <td>SAMPLE_00004</td>\n",
       "      <td>27.050993</td>\n",
       "    </tr>\n",
       "    <tr>\n",
       "      <th>...</th>\n",
       "      <td>...</td>\n",
       "      <td>...</td>\n",
       "    </tr>\n",
       "    <tr>\n",
       "      <th>62624</th>\n",
       "      <td>SAMPLE_62624</td>\n",
       "      <td>21.231178</td>\n",
       "    </tr>\n",
       "    <tr>\n",
       "      <th>62625</th>\n",
       "      <td>SAMPLE_62625</td>\n",
       "      <td>21.346040</td>\n",
       "    </tr>\n",
       "    <tr>\n",
       "      <th>62626</th>\n",
       "      <td>SAMPLE_62626</td>\n",
       "      <td>21.465771</td>\n",
       "    </tr>\n",
       "    <tr>\n",
       "      <th>62627</th>\n",
       "      <td>SAMPLE_62627</td>\n",
       "      <td>21.562141</td>\n",
       "    </tr>\n",
       "    <tr>\n",
       "      <th>62628</th>\n",
       "      <td>SAMPLE_62628</td>\n",
       "      <td>21.465771</td>\n",
       "    </tr>\n",
       "  </tbody>\n",
       "</table>\n",
       "<p>62629 rows × 2 columns</p>\n",
       "</div>"
      ],
      "text/plain": [
       "                 id      Value\n",
       "0      SAMPLE_00000  27.636770\n",
       "1      SAMPLE_00001  27.250818\n",
       "2      SAMPLE_00002  27.154348\n",
       "3      SAMPLE_00003  27.101404\n",
       "4      SAMPLE_00004  27.050993\n",
       "...             ...        ...\n",
       "62624  SAMPLE_62624  21.231178\n",
       "62625  SAMPLE_62625  21.346040\n",
       "62626  SAMPLE_62626  21.465771\n",
       "62627  SAMPLE_62627  21.562141\n",
       "62628  SAMPLE_62628  21.465771\n",
       "\n",
       "[62629 rows x 2 columns]"
      ]
     },
     "execution_count": 3,
     "metadata": {},
     "output_type": "execute_result"
    }
   ],
   "source": [
    "data"
   ]
  },
  {
   "cell_type": "code",
   "execution_count": 4,
   "metadata": {},
   "outputs": [],
   "source": [
    "# 결과 저장\n",
    "data.to_csv('C:/Users/82106/Desktop/데이터 분석 프로젝트 2/dacon 결측치 보간/open/submission.csv', index=False)"
   ]
  },
  {
   "cell_type": "code",
   "execution_count": null,
   "metadata": {},
   "outputs": [],
   "source": []
  }
 ],
 "metadata": {
  "kernelspec": {
   "display_name": "Python 3",
   "language": "python",
   "name": "python3"
  },
  "language_info": {
   "codemirror_mode": {
    "name": "ipython",
    "version": 3
   },
   "file_extension": ".py",
   "mimetype": "text/x-python",
   "name": "python",
   "nbconvert_exporter": "python",
   "pygments_lexer": "ipython3",
   "version": "3.10.2"
  }
 },
 "nbformat": 4,
 "nbformat_minor": 2
}
